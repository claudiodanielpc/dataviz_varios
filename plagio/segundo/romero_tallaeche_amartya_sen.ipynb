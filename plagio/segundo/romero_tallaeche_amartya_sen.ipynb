{
 "cells": [
  {
   "cell_type": "code",
   "execution_count": 97,
   "metadata": {},
   "outputs": [],
   "source": [
    "from googletrans import Translator\n",
    "from io import BytesIO\n",
    "import requests\n",
    "import PyPDF2\n",
    "from nltk.corpus import stopwords\n",
    "from nltk.stem.porter import *\n",
    "from IPython.display import display, Markdown"
   ]
  },
  {
   "cell_type": "markdown",
   "metadata": {},
   "source": [
    "### Funciones básicas para limpieza y para calcular la similitud entre documentos"
   ]
  },
  {
   "cell_type": "code",
   "execution_count": 98,
   "metadata": {},
   "outputs": [],
   "source": [
    "#Se definen stemmer y stopwords\n",
    "stemmer = PorterStemmer()\n",
    "stopw = stopwords.words(\"spanish\")\n",
    "\n",
    "\n",
    "puntuacion = \";:,.\\\\-\\\"'/\"\n",
    "simbolos = \"%^$#+[]¿?¡!{}~<>|*;:,.\\\\-\\\"'''/[]{}~<>|«»–-—’\\t\\n\\r“”\"\n",
    "quitar = set(puntuacion + simbolos + '\\t\\n\\r ')\n",
    "def normaliza_texto(doc):\n",
    "    #Texto en minúsculas\n",
    "    doc = doc.lower()\n",
    "    #Split por espacios \n",
    "    doc = \" \".join([doc for doc in doc.split() if doc not in stopw]).split()\n",
    "    output = []\n",
    "    #Aplicar stemmer\n",
    "    for words in doc:\n",
    "        output.append(stemmer.stem(words))\n",
    "        for caracter in quitar:\n",
    "            output = [word.replace(caracter, '') for word in output]\n",
    "    output=set(output)\n",
    "    return output"
   ]
  },
  {
   "cell_type": "code",
   "execution_count": 99,
   "metadata": {},
   "outputs": [],
   "source": [
    "def Jaccard(doc1, doc2): \n",
    "    \n",
    "    # Aplicar normalización de texto\n",
    "    words_doc1 = normaliza_texto(doc1) \n",
    "    words_doc2 = normaliza_texto(doc2)\n",
    "    \n",
    "    # Intersección de palabras de ambos documentos\n",
    "    intersection = words_doc1.intersection(words_doc2)\n",
    "\n",
    "    # Unión de ambos documentos\n",
    "    union = words_doc1.union(words_doc2)\n",
    "        \n",
    "    #Calcular medida de similitud Jaccard\n",
    "    return float(len(intersection))  / len(union)"
   ]
  },
  {
   "cell_type": "markdown",
   "metadata": {},
   "source": [
    "### Texto original de Amartya Sen"
   ]
  },
  {
   "cell_type": "code",
   "execution_count": 100,
   "metadata": {},
   "outputs": [
    {
     "data": {
      "text/plain": [
       "'Second, people can, of course, change their nationalities, and there is clearly a huge role of choice there. Third, a person may be contented enough with his or her nationality, and yet may choose to work for the cause of national Independence of another country, or for the dignity and well-being of a foreign nation. It is important to see that the positive role of nationalism need not influence only those who happen to be, themselves, victims of foreign domination and of related indignites imposed on a subdued nation. Indeed, the fight against national subjugation need not be restricted only to persons who are born in the supressed nation. The search for justice against captivity can inspire others who come form elsewhere but who choose to join that struggle, moved by the cause of Independence and of regeneration o fan overpowered nation, and who come to develop a close bond with that underdog society.'"
      ]
     },
     "execution_count": 100,
     "metadata": {},
     "output_type": "execute_result"
    }
   ],
   "source": [
    "url=\"https://raw.githubusercontent.com/claudiodanielpc/dataviz_varios/main/plagio/segundo/amartya_sen.txt\"\n",
    "response=requests.get(url)\n",
    "amartya=response.text\n",
    "amartya"
   ]
  },
  {
   "cell_type": "markdown",
   "metadata": {},
   "source": [
    "Se traduce el texto original al español usando la librería googletrans"
   ]
  },
  {
   "cell_type": "code",
   "execution_count": 101,
   "metadata": {},
   "outputs": [
    {
     "data": {
      "text/plain": [
       "'En segundo lugar, las personas pueden, por supuesto, cambiar sus nacionalidades, y claramente hay un gran papel de elección allí. En tercer lugar, una persona puede estar lo suficientemente contenta con su nacionalidad y, sin embargo, puede optar por trabajar por la causa de la independencia nacional de otro país o por la dignidad y el bienestar de una nación extranjera. Es importante ver que el papel positivo del nacionalismo no tiene por qué influir sólo en aquellos que resultan ser, ellos mismos, víctimas de la dominación extranjera y de indignidades relacionadas impuestas a una nación sometida. De hecho, la lucha contra la subyugación nacional no tiene por qué limitarse únicamente a las personas nacidas en la nación oprimida. La búsqueda de justicia contra el cautiverio puede inspirar a otros que vienen de otros lugares pero que optan por sumarse a esa lucha, movidos por la causa de la Independencia y de la regeneración de una nación vencida, y que llegan a desarrollar un estrecho vínculo con esa sociedad desvalida.'"
      ]
     },
     "execution_count": 101,
     "metadata": {},
     "output_type": "execute_result"
    }
   ],
   "source": [
    "#Traducir texto al español\n",
    "translator = Translator()\n",
    "amartya_esp=translator.translate(amartya,dest=\"es\").text\n",
    "amartya_esp"
   ]
  },
  {
   "cell_type": "markdown",
   "metadata": {},
   "source": [
    "### Texto Romero-Tellaeche"
   ]
  },
  {
   "cell_type": "code",
   "execution_count": 102,
   "metadata": {},
   "outputs": [
    {
     "name": "stdout",
     "output_type": "stream",
     "text": [
      "Número de páginas del PDF:  37\n"
     ]
    }
   ],
   "source": [
    "# Crear el objeto PDF \n",
    "url=\"https://github.com/claudiodanielpc/dataviz_varios/raw/main/plagio/segundo/romero_herencia_neoliberal.pdf\"\n",
    "response=requests.get(url)\n",
    "pdf_file=response.content\n",
    "\n",
    "with BytesIO(pdf_file) as data:\n",
    "    pdf_reader = PyPDF2.PdfFileReader(data)\n",
    "    print(\"Número de páginas del PDF: \",pdf_reader.numPages)\n",
    "    #Página de interés del PDF\n",
    "    romero = pdf_reader.getPage(10)\n",
    "    romero= romero.extractText().split(\"\\n\")"
   ]
  },
  {
   "cell_type": "code",
   "execution_count": 103,
   "metadata": {},
   "outputs": [
    {
     "data": {
      "text/plain": [
       "'Las personas pueden, por supuesto, cambiar sus nacionalidades, y claramente hay un gran papel de elección allí. Una persona  también puede estar suficientemente satisfecha con su nacionalidad y, sin  embargo, puede optar por trabajar por la causa de la independencia nacional de otro país, o por la dignidad y el bienestar de una nación extranjera.Es importante resaltar que el papel positivo del nacionalismo no tiene que influir sólo en quienes resultan ser víctimas de la dominación extranjera y de las indignidades relacionadas impuestas a una nación sometida. De hecho, la lucha contra la subyugación nacional no necesita limitarse sólo a las personas que nacen en la nación reprimida. La búsqueda de justicia contra el cautiverio puede inspirar a otros provenientes de lugares distintos, pero que eligen unirse a esa lucha, movidos por la causa de la independencia y la regeneración de una nación dominada, y con el interés de desarrollar un vínculo estrecho con esa sociedad desvalida. '"
      ]
     },
     "execution_count": 103,
     "metadata": {},
     "output_type": "execute_result"
    }
   ],
   "source": [
    "#Establecer elementos a extraer\n",
    "romero=romero[16:23]\n",
    "romero=\"\\n\".join(romero).replace(\"\\n\",\"\")\n",
    "\n",
    "#Cambiar caracteres por texto específico\n",
    "añadir={\"˜\":\"fi\",\n",
    "\"-ra\": \"que influir sólo en quienes resultan ser víctimas de la dominación extranjera\"\n",
    "}\n",
    "for key,value in añadir.items():\n",
    "    romero=romero.replace(key,value)\n",
    "\n",
    "#Quitar oraciones que no sean relevantes\n",
    "remover=[\"de cada uno de nosotros. \",\n",
    "\"7 Subhas Chandra Bose fue un nacionalista indio cuyo desafiante patriotismo lo convirtió en un héroe en su país, pero al intentar liberar a la India del dominio británico se alió con la Alemania nazi y el Japón imperial, lo que le dejó una reputación cuestionable.  \"]\n",
    "for oracion in remover:\n",
    "    romero=romero.replace(oracion,\"\")\n",
    "#Mostrar texto\n",
    "romero"
   ]
  },
  {
   "cell_type": "markdown",
   "metadata": {},
   "source": [
    "### Presentación de párrafos"
   ]
  },
  {
   "cell_type": "code",
   "execution_count": 104,
   "metadata": {},
   "outputs": [
    {
     "data": {
      "text/markdown": [
       "####  Párrafos"
      ],
      "text/plain": [
       "<IPython.core.display.Markdown object>"
      ]
     },
     "metadata": {},
     "output_type": "display_data"
    },
    {
     "data": {
      "text/markdown": [
       "#####  Romero Tallaeche"
      ],
      "text/plain": [
       "<IPython.core.display.Markdown object>"
      ]
     },
     "metadata": {},
     "output_type": "display_data"
    },
    {
     "name": "stdout",
     "output_type": "stream",
     "text": [
      "Las personas pueden, por supuesto, cambiar sus nacionalidades, y claramente hay un gran papel de elección allí. Una persona  también puede estar suficientemente satisfecha con su nacionalidad y, sin  embargo, puede optar por trabajar por la causa de la independencia nacional de otro país, o por la dignidad y el bienestar de una nación extranjera.Es importante resaltar que el papel positivo del nacionalismo no tiene que influir sólo en quienes resultan ser víctimas de la dominación extranjera y de las indignidades relacionadas impuestas a una nación sometida. De hecho, la lucha contra la subyugación nacional no necesita limitarse sólo a las personas que nacen en la nación reprimida. La búsqueda de justicia contra el cautiverio puede inspirar a otros provenientes de lugares distintos, pero que eligen unirse a esa lucha, movidos por la causa de la independencia y la regeneración de una nación dominada, y con el interés de desarrollar un vínculo estrecho con esa sociedad desvalida. \n"
     ]
    },
    {
     "data": {
      "text/markdown": [
       "#### ---------------------------------------------------------------------------------------"
      ],
      "text/plain": [
       "<IPython.core.display.Markdown object>"
      ]
     },
     "metadata": {},
     "output_type": "display_data"
    },
    {
     "data": {
      "text/markdown": [
       "#####  Amartya Sen"
      ],
      "text/plain": [
       "<IPython.core.display.Markdown object>"
      ]
     },
     "metadata": {},
     "output_type": "display_data"
    },
    {
     "name": "stdout",
     "output_type": "stream",
     "text": [
      "En segundo lugar, las personas pueden, por supuesto, cambiar sus nacionalidades, y claramente hay un gran papel de elección allí. En tercer lugar, una persona puede estar lo suficientemente contenta con su nacionalidad y, sin embargo, puede optar por trabajar por la causa de la independencia nacional de otro país o por la dignidad y el bienestar de una nación extranjera. Es importante ver que el papel positivo del nacionalismo no tiene por qué influir sólo en aquellos que resultan ser, ellos mismos, víctimas de la dominación extranjera y de indignidades relacionadas impuestas a una nación sometida. De hecho, la lucha contra la subyugación nacional no tiene por qué limitarse únicamente a las personas nacidas en la nación oprimida. La búsqueda de justicia contra el cautiverio puede inspirar a otros que vienen de otros lugares pero que optan por sumarse a esa lucha, movidos por la causa de la Independencia y de la regeneración de una nación vencida, y que llegan a desarrollar un estrecho vínculo con esa sociedad desvalida.\n"
     ]
    }
   ],
   "source": [
    "#Presentación de párrafos\n",
    "display(Markdown(\"####  Párrafos\"))\n",
    "display(Markdown(\"#####  Romero Tallaeche\"))\n",
    "print(romero)\n",
    "display(Markdown(\"#### ---------------------------------------------------------------------------------------\"))\n",
    "display(Markdown(\"#####  Amartya Sen\"))\n",
    "print(amartya_esp)\n"
   ]
  },
  {
   "cell_type": "markdown",
   "metadata": {},
   "source": [
    "### Cálculo de Similitud"
   ]
  },
  {
   "cell_type": "code",
   "execution_count": 105,
   "metadata": {},
   "outputs": [
    {
     "data": {
      "text/markdown": [
       "#### Similitud de Jaccard: 0.6625"
      ],
      "text/plain": [
       "<IPython.core.display.Markdown object>"
      ]
     },
     "metadata": {},
     "output_type": "display_data"
    }
   ],
   "source": [
    "#Resultados de la comparación\n",
    "display(Markdown(\"#### Similitud de Jaccard: {}\".format(Jaccard(romero,amartya_esp))))"
   ]
  }
 ],
 "metadata": {
  "kernelspec": {
   "display_name": "Python 3.9.11 ('base')",
   "language": "python",
   "name": "python3"
  },
  "language_info": {
   "codemirror_mode": {
    "name": "ipython",
    "version": 3
   },
   "file_extension": ".py",
   "mimetype": "text/x-python",
   "name": "python",
   "nbconvert_exporter": "python",
   "pygments_lexer": "ipython3",
   "version": "3.9.11"
  },
  "orig_nbformat": 4,
  "vscode": {
   "interpreter": {
    "hash": "7f2521f8c852c438ae51a89799ece420e6f028aa659cd11ab73056bc51495ab9"
   }
  }
 },
 "nbformat": 4,
 "nbformat_minor": 2
}
