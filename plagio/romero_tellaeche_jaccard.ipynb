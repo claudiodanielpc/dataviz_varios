{
 "cells": [
  {
   "cell_type": "code",
   "execution_count": 1,
   "metadata": {},
   "outputs": [],
   "source": [
    "import os\n",
    "from nltk.corpus import stopwords\n",
    "from nltk.stem.porter import *\n",
    "from IPython.display import display, Markdown"
   ]
  },
  {
   "cell_type": "code",
   "execution_count": 2,
   "metadata": {},
   "outputs": [],
   "source": [
    "os.chdir(\"D:/plagio\")\n",
    "path=os.path.join(os.getcwd())"
   ]
  },
  {
   "cell_type": "code",
   "execution_count": 3,
   "metadata": {},
   "outputs": [],
   "source": [
    "#Se definen stemmer y stopwords\n",
    "stemmer = PorterStemmer()\n",
    "stopw = stopwords.words(\"english\")"
   ]
  },
  {
   "cell_type": "code",
   "execution_count": 4,
   "metadata": {},
   "outputs": [],
   "source": [
    "puntuacion = \";:,.\\\\-\\\"'/\"\n",
    "simbolos = \"%^$#+[]¿?¡!{}~<>|*;:,.\\\\-\\\"'''/[]{}~<>|«»–-—’\\t\\n\\r“”\"\n",
    "quitar = set(puntuacion + simbolos + '\\t\\n\\r ')\n",
    "def normaliza_texto(doc):\n",
    "    #Texto en minúsculas\n",
    "    doc = doc.lower()\n",
    "    #Split por espacios \n",
    "    doc = \" \".join([doc for doc in doc.split() if doc not in stopw]).split()\n",
    "    output = []\n",
    "    #Aplicar stemmer\n",
    "    for words in doc:\n",
    "        output.append(stemmer.stem(words))\n",
    "        for caracter in quitar:\n",
    "            output = [word.replace(caracter, '') for word in output]\n",
    "    output=set(output)\n",
    "    return output"
   ]
  },
  {
   "cell_type": "code",
   "execution_count": 5,
   "metadata": {},
   "outputs": [],
   "source": [
    "def Jaccard(doc1, doc2): \n",
    "    \n",
    "    # Aplicar normalización de texto\n",
    "    words_doc1 = normaliza_texto(doc1) \n",
    "    words_doc2 = normaliza_texto(doc2)\n",
    "    \n",
    "    # Intersección de palabras de ambos documentos\n",
    "    intersection = words_doc1.intersection(words_doc2)\n",
    "\n",
    "    # Unión de ambos documentos\n",
    "    union = words_doc1.union(words_doc2)\n",
    "        \n",
    "    #Calcular medida de similitud Jaccard\n",
    "    return float(len(intersection))  / len(union)"
   ]
  },
  {
   "cell_type": "code",
   "execution_count": 6,
   "metadata": {},
   "outputs": [],
   "source": [
    "#Párrafos a comparar\n",
    "romero=open(\"par_romero.txt\",\"r\").read()\n",
    "turcos=open(\"par_turcos.txt\",\"r\").read()"
   ]
  },
  {
   "cell_type": "code",
   "execution_count": 7,
   "metadata": {},
   "outputs": [
    {
     "data": {
      "text/markdown": [
       "####  Párrafos"
      ],
      "text/plain": [
       "<IPython.core.display.Markdown object>"
      ]
     },
     "metadata": {},
     "output_type": "display_data"
    },
    {
     "data": {
      "text/markdown": [
       "#####  Romero Tallaeche"
      ],
      "text/plain": [
       "<IPython.core.display.Markdown object>"
      ]
     },
     "metadata": {},
     "output_type": "display_data"
    },
    {
     "name": "stdout",
     "output_type": "stream",
     "text": [
      "Some other authors take aggregate import as a function of disaggregated income- expenditure, namely, consumption, investment, and exports components (Tang (2005); Zhou and Dube (2011); Chani and Chaudhary (2012); Modeste (2011)). In these studies, the rationale of disaggregating income-expenditure is explained as avoiding aggregation bias, which results from the use of a single aggregate expenditure variable in the import function, when different macro components of final expenditure are used they produce different impacts on imports.\n"
     ]
    },
    {
     "data": {
      "text/markdown": [
       "#### ---------------------------------------------------------------------------------------"
      ],
      "text/plain": [
       "<IPython.core.display.Markdown object>"
      ]
     },
     "metadata": {},
     "output_type": "display_data"
    },
    {
     "data": {
      "text/markdown": [
       "#####  Colak, et al."
      ],
      "text/plain": [
       "<IPython.core.display.Markdown object>"
      ]
     },
     "metadata": {},
     "output_type": "display_data"
    },
    {
     "name": "stdout",
     "output_type": "stream",
     "text": [
      "some others take aggregate import as a function of disaggregated income expenditure namely, consumption, investment and exports components (Tang (2005), Zhou and Dube (2011), Chani and Chaudhary (2012), Modeste (2011)). In these studies the rational of disaggregating income-expenditure is explained as avoiding aggregation bias resulting from use of a single aggregate expenditure variable in the import function when different macro components of final expenditure produce different impacts on imports.\n"
     ]
    }
   ],
   "source": [
    "#Presentación de párrafos\n",
    "display(Markdown(\"####  Párrafos\"))\n",
    "display(Markdown(\"#####  Romero Tallaeche\"))\n",
    "print(romero)\n",
    "display(Markdown(\"#### ---------------------------------------------------------------------------------------\"))\n",
    "display(Markdown(\"#####  Colak, et al.\"))\n",
    "print(turcos)\n"
   ]
  },
  {
   "cell_type": "code",
   "execution_count": 8,
   "metadata": {},
   "outputs": [
    {
     "data": {
      "text/markdown": [
       "####  Medida de similitud Jaccard"
      ],
      "text/plain": [
       "<IPython.core.display.Markdown object>"
      ]
     },
     "metadata": {},
     "output_type": "display_data"
    },
    {
     "data": {
      "text/plain": [
       "0.717391304347826"
      ]
     },
     "execution_count": 8,
     "metadata": {},
     "output_type": "execute_result"
    }
   ],
   "source": [
    "#Resultados de la comparación\n",
    "display(Markdown(\"####  Medida de similitud Jaccard\"))\n",
    "Jaccard(romero,turcos)"
   ]
  }
 ],
 "metadata": {
  "kernelspec": {
   "display_name": "Python 3.9.11 ('base')",
   "language": "python",
   "name": "python3"
  },
  "language_info": {
   "codemirror_mode": {
    "name": "ipython",
    "version": 3
   },
   "file_extension": ".py",
   "mimetype": "text/x-python",
   "name": "python",
   "nbconvert_exporter": "python",
   "pygments_lexer": "ipython3",
   "version": "3.9.13 (main, Oct 13 2022, 21:23:06) [MSC v.1916 64 bit (AMD64)]"
  },
  "orig_nbformat": 4,
  "vscode": {
   "interpreter": {
    "hash": "7f2521f8c852c438ae51a89799ece420e6f028aa659cd11ab73056bc51495ab9"
   }
  }
 },
 "nbformat": 4,
 "nbformat_minor": 2
}
