{
 "cells": [
  {
   "cell_type": "code",
   "execution_count": 17,
   "metadata": {},
   "outputs": [],
   "source": [
    "import pandas as pd\n",
    "import requests\n",
    "from matplotlib import pyplot as plt"
   ]
  },
  {
   "cell_type": "code",
   "execution_count": 18,
   "metadata": {},
   "outputs": [],
   "source": [
    "url=\"https://prep.ieem.org.mx/data/json/gubernatura/entidad-candidatura-ppci.json\""
   ]
  },
  {
   "cell_type": "code",
   "execution_count": 19,
   "metadata": {},
   "outputs": [],
   "source": [
    "headers = {'User-Agent': 'Mozilla/5.0 (Windows NT 10.0; Win64; x64) AppleWebKit/537.36 (KHTML, like Gecko) Chrome/113.0.0.0 Safari/537.36'}\n"
   ]
  },
  {
   "cell_type": "code",
   "execution_count": 20,
   "metadata": {},
   "outputs": [],
   "source": [
    "data=requests.get(url,headers=headers).json()"
   ]
  },
  {
   "cell_type": "code",
   "execution_count": 25,
   "metadata": {},
   "outputs": [
    {
     "data": {
      "text/plain": [
       "{'votosCandidatura': [{'ganando': False,\n",
       "   'nombre': 'Paulina Alejandra Del Moral Vela',\n",
       "   'candidatura': 'PAN_PRI_PRD_NAEM',\n",
       "   'color': '#006bb6',\n",
       "   'totalVotos': 2506477,\n",
       "   'porcentajeTotalVotos': '44.3676',\n",
       "   'casilla': 2506477,\n",
       "   'extranjero': 0,\n",
       "   'anticipado': 0,\n",
       "   'prision': 0,\n",
       "   'distribucion': None},\n",
       "  {'ganando': True,\n",
       "   'nombre': 'Delfina Gómez Álvarez',\n",
       "   'candidatura': 'PVEM_PT_MORENA',\n",
       "   'color': '#b3282d',\n",
       "   'totalVotos': 2973607,\n",
       "   'porcentajeTotalVotos': '52.6363',\n",
       "   'casilla': 2973607,\n",
       "   'extranjero': 0,\n",
       "   'anticipado': 0,\n",
       "   'prision': 0,\n",
       "   'distribucion': None}],\n",
       " 'votosPpci': [{'ppci': 'PAN',\n",
       "   'color': '#006bb6',\n",
       "   'totalVotos': 645893,\n",
       "   'porcentajeTotalVotos': '11.4330',\n",
       "   'casilla': 645893,\n",
       "   'extranjero': 0,\n",
       "   'anticipado': 0,\n",
       "   'prision': 0},\n",
       "  {'ppci': 'PRI',\n",
       "   'color': '#ef3e42',\n",
       "   'totalVotos': 1585415,\n",
       "   'porcentajeTotalVotos': '28.0637',\n",
       "   'casilla': 1585415,\n",
       "   'extranjero': 0,\n",
       "   'anticipado': 0,\n",
       "   'prision': 0},\n",
       "  {'ppci': 'PRD',\n",
       "   'color': '#ffce00',\n",
       "   'totalVotos': 165619,\n",
       "   'porcentajeTotalVotos': '2.9316',\n",
       "   'casilla': 165619,\n",
       "   'extranjero': 0,\n",
       "   'anticipado': 0,\n",
       "   'prision': 0},\n",
       "  {'ppci': 'PVEM',\n",
       "   'color': '#4daf59',\n",
       "   'totalVotos': 567467,\n",
       "   'porcentajeTotalVotos': '10.0448',\n",
       "   'casilla': None,\n",
       "   'extranjero': None,\n",
       "   'anticipado': None,\n",
       "   'prision': None},\n",
       "  {'ppci': 'PT',\n",
       "   'color': '#ed1c24',\n",
       "   'totalVotos': 418643,\n",
       "   'porcentajeTotalVotos': '7.4104',\n",
       "   'casilla': None,\n",
       "   'extranjero': None,\n",
       "   'anticipado': None,\n",
       "   'prision': None},\n",
       "  {'ppci': 'MORENA',\n",
       "   'color': '#b3282d',\n",
       "   'totalVotos': 1987497,\n",
       "   'porcentajeTotalVotos': '35.1810',\n",
       "   'casilla': None,\n",
       "   'extranjero': None,\n",
       "   'anticipado': None,\n",
       "   'prision': None},\n",
       "  {'ppci': 'NAEM',\n",
       "   'color': '#00abbd',\n",
       "   'totalVotos': 109550,\n",
       "   'porcentajeTotalVotos': '1.9391',\n",
       "   'casilla': 109550,\n",
       "   'extranjero': 0,\n",
       "   'anticipado': 0,\n",
       "   'prision': 0}],\n",
       " 'resumenVotacion': {'resumenCompleto': True,\n",
       "  'mostrarObservaciones': False,\n",
       "  'casilla': 5480084,\n",
       "  'porcentajeCasilla': '97.0039',\n",
       "  'extranjero': 0,\n",
       "  'porcentajeExtranjero': '0.0000',\n",
       "  'anticipado': 0,\n",
       "  'porcentajeAnticipado': '0.0000',\n",
       "  'prision': 0,\n",
       "  'porcentajePrision': '0.0000',\n",
       "  'acumulados': 5480084,\n",
       "  'porcentajeAcumulados': '97.0039',\n",
       "  'noRegistradas': 9885,\n",
       "  'porcentajeNoRegistradas': '0.1749',\n",
       "  'nulos': 159370,\n",
       "  'porcentajeNulos': '2.8210',\n",
       "  'totalVotos': 5649339,\n",
       "  'porcentajeTotalVotos': '100.0000'},\n",
       " 'estadisticaActas': {'esperadas': 20442,\n",
       "  'porcentajeEsperadas': '100.0000',\n",
       "  'capturadas': 18228,\n",
       "  'porcentajeCapturadas': '89.1693',\n",
       "  'contabilizadas': 18055,\n",
       "  'porcentajeContabilizadas': '88.3230',\n",
       "  'urbanas': 14325,\n",
       "  'noUrbanas': 3730},\n",
       " 'estadisticaListaNominal': {'listaNominalContabilizadas': 11247503,\n",
       "  'listaNominalAprobadas': 12739629,\n",
       "  'porcentajeListaNominal': '88.2875',\n",
       "  'votosSinEspeciales': 5596935,\n",
       "  'votosEnEspeciales': 52404,\n",
       "  'totalVotos': 5649339,\n",
       "  'esUltimoCorte': False},\n",
       " 'estadisticaFormula': {'votos': 5596935,\n",
       "  'listaNominalContabilizadas': 11247503,\n",
       "  'porcentajeParticipacion': '49.7615',\n",
       "  'esUltimoCorte': False}}"
      ]
     },
     "execution_count": 25,
     "metadata": {},
     "output_type": "execute_result"
    }
   ],
   "source": [
    "data"
   ]
  },
  {
   "cell_type": "code",
   "execution_count": 21,
   "metadata": {},
   "outputs": [],
   "source": [
    "df=pd.DataFrame(data[\"votosCandidatura\"])\n",
    "df[\"porcentajeTotalVotos\"]=df[\"porcentajeTotalVotos\"].astype(float)"
   ]
  },
  {
   "cell_type": "code",
   "execution_count": 22,
   "metadata": {},
   "outputs": [
    {
     "data": {
      "text/html": [
       "<div>\n",
       "<style scoped>\n",
       "    .dataframe tbody tr th:only-of-type {\n",
       "        vertical-align: middle;\n",
       "    }\n",
       "\n",
       "    .dataframe tbody tr th {\n",
       "        vertical-align: top;\n",
       "    }\n",
       "\n",
       "    .dataframe thead th {\n",
       "        text-align: right;\n",
       "    }\n",
       "</style>\n",
       "<table border=\"1\" class=\"dataframe\">\n",
       "  <thead>\n",
       "    <tr style=\"text-align: right;\">\n",
       "      <th></th>\n",
       "      <th>ganando</th>\n",
       "      <th>nombre</th>\n",
       "      <th>candidatura</th>\n",
       "      <th>color</th>\n",
       "      <th>totalVotos</th>\n",
       "      <th>porcentajeTotalVotos</th>\n",
       "      <th>casilla</th>\n",
       "      <th>extranjero</th>\n",
       "      <th>anticipado</th>\n",
       "      <th>prision</th>\n",
       "      <th>distribucion</th>\n",
       "    </tr>\n",
       "  </thead>\n",
       "  <tbody>\n",
       "    <tr>\n",
       "      <th>0</th>\n",
       "      <td>False</td>\n",
       "      <td>Paulina Alejandra Del Moral Vela</td>\n",
       "      <td>PAN_PRI_PRD_NAEM</td>\n",
       "      <td>#006bb6</td>\n",
       "      <td>2506477</td>\n",
       "      <td>44.3676</td>\n",
       "      <td>2506477</td>\n",
       "      <td>0</td>\n",
       "      <td>0</td>\n",
       "      <td>0</td>\n",
       "      <td>None</td>\n",
       "    </tr>\n",
       "    <tr>\n",
       "      <th>1</th>\n",
       "      <td>True</td>\n",
       "      <td>Delfina Gómez Álvarez</td>\n",
       "      <td>PVEM_PT_MORENA</td>\n",
       "      <td>#b3282d</td>\n",
       "      <td>2973607</td>\n",
       "      <td>52.6363</td>\n",
       "      <td>2973607</td>\n",
       "      <td>0</td>\n",
       "      <td>0</td>\n",
       "      <td>0</td>\n",
       "      <td>None</td>\n",
       "    </tr>\n",
       "  </tbody>\n",
       "</table>\n",
       "</div>"
      ],
      "text/plain": [
       "   ganando                            nombre       candidatura    color  \\\n",
       "0    False  Paulina Alejandra Del Moral Vela  PAN_PRI_PRD_NAEM  #006bb6   \n",
       "1     True             Delfina Gómez Álvarez    PVEM_PT_MORENA  #b3282d   \n",
       "\n",
       "   totalVotos  porcentajeTotalVotos  casilla  extranjero  anticipado  prision  \\\n",
       "0     2506477               44.3676  2506477           0           0        0   \n",
       "1     2973607               52.6363  2973607           0           0        0   \n",
       "\n",
       "  distribucion  \n",
       "0         None  \n",
       "1         None  "
      ]
     },
     "execution_count": 22,
     "metadata": {},
     "output_type": "execute_result"
    }
   ],
   "source": [
    "df"
   ]
  },
  {
   "cell_type": "code",
   "execution_count": 23,
   "metadata": {},
   "outputs": [],
   "source": [
    "plt.rcParams[\"font.family\"] = \"Montserrat\""
   ]
  },
  {
   "cell_type": "code",
   "execution_count": 24,
   "metadata": {},
   "outputs": [
    {
     "data": {
      "text/plain": [
       "Text(0.95, 0.01, 'Fuente: @claudiodanielpc con información del Instituto Electoral del Estado de México')"
      ]
     },
     "execution_count": 24,
     "metadata": {},
     "output_type": "execute_result"
    },
    {
     "data": {
      "image/png": "[encoded data removed]",
      "text/plain": [
       "<Figure size 640x480 with 1 Axes>"
      ]
     },
     "metadata": {},
     "output_type": "display_data"
    }
   ],
   "source": [
    "#Gráfica de barras\n",
    "plt.bar(df[\"nombre\"],df[\"porcentajeTotalVotos\"], color=\"#756bb1\")\n",
    "#Título \n",
    "plt.title(\"Porcentaje de votos por candidata a la gubernatura del Estado de México\", weight=\"bold\",fontsize=14)\n",
    "#Eliminar los bordes\n",
    "plt.box(False)\n",
    "#Eliminar eje y\n",
    "plt.yticks([])\n",
    "#Etiquetas encima de las barras redondeadas a un decimal\n",
    "for index, row in df.iterrows():\n",
    "    plt.text(index,row[\"porcentajeTotalVotos\"],round(row[\"porcentajeTotalVotos\"],1),ha=\"center\",va=\"bottom\", fontsize=12, weight=\"bold\")\n",
    "#Fuente de la gráfica\n",
    "plt.figtext(0.95,0.01,\"Fuente: @claudiodanielpc con información del Instituto Electoral del Estado de México\",ha=\"right\",fontsize=8)"
   ]
  }
 ],
 "metadata": {
  "kernelspec": {
   "display_name": "base",
   "language": "python",
   "name": "python3"
  },
  "language_info": {
   "codemirror_mode": {
    "name": "ipython",
    "version": 3
   },
   "file_extension": ".py",
   "mimetype": "text/x-python",
   "name": "python",
   "nbconvert_exporter": "python",
   "pygments_lexer": "ipython3",
   "version": "3.9.13"
  },
  "orig_nbformat": 4
 },
 "nbformat": 4,
 "nbformat_minor": 2
}
