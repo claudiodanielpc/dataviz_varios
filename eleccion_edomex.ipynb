{
 "cells": [
  {
   "cell_type": "code",
   "execution_count": 9,
   "metadata": {},
   "outputs": [],
   "source": [
    "import pandas as pd\n",
    "import requests\n",
    "from matplotlib import pyplot as plt"
   ]
  },
  {
   "cell_type": "code",
   "execution_count": 10,
   "metadata": {},
   "outputs": [],
   "source": [
    "url=\"https://prep.ieem.org.mx/data/json/gubernatura/entidad-candidatura-ppci.json\""
   ]
  },
  {
   "cell_type": "code",
   "execution_count": 11,
   "metadata": {},
   "outputs": [],
   "source": [
    "headers = {'User-Agent': 'Mozilla/5.0 (Windows NT 10.0; Win64; x64) AppleWebKit/537.36 (KHTML, like Gecko) Chrome/113.0.0.0 Safari/537.36'}\n"
   ]
  },
  {
   "cell_type": "code",
   "execution_count": 12,
   "metadata": {},
   "outputs": [],
   "source": [
    "data=requests.get(url,headers=headers).json()"
   ]
  },
  {
   "cell_type": "code",
   "execution_count": 13,
   "metadata": {},
   "outputs": [],
   "source": [
    "df=pd.DataFrame(data[\"votosCandidatura\"])\n",
    "df[\"porcentajeTotalVotos\"]=df[\"porcentajeTotalVotos\"].astype(float)"
   ]
  },
  {
   "cell_type": "code",
   "execution_count": 14,
   "metadata": {},
   "outputs": [
    {
     "data": {
      "text/html": [
       "<div>\n",
       "<style scoped>\n",
       "    .dataframe tbody tr th:only-of-type {\n",
       "        vertical-align: middle;\n",
       "    }\n",
       "\n",
       "    .dataframe tbody tr th {\n",
       "        vertical-align: top;\n",
       "    }\n",
       "\n",
       "    .dataframe thead th {\n",
       "        text-align: right;\n",
       "    }\n",
       "</style>\n",
       "<table border=\"1\" class=\"dataframe\">\n",
       "  <thead>\n",
       "    <tr style=\"text-align: right;\">\n",
       "      <th></th>\n",
       "      <th>ganando</th>\n",
       "      <th>nombre</th>\n",
       "      <th>candidatura</th>\n",
       "      <th>color</th>\n",
       "      <th>totalVotos</th>\n",
       "      <th>porcentajeTotalVotos</th>\n",
       "      <th>casilla</th>\n",
       "      <th>extranjero</th>\n",
       "      <th>anticipado</th>\n",
       "      <th>prision</th>\n",
       "      <th>distribucion</th>\n",
       "    </tr>\n",
       "  </thead>\n",
       "  <tbody>\n",
       "    <tr>\n",
       "      <th>0</th>\n",
       "      <td>False</td>\n",
       "      <td>Paulina Alejandra Del Moral Vela</td>\n",
       "      <td>PAN_PRI_PRD_NAEM</td>\n",
       "      <td>#006bb6</td>\n",
       "      <td>712958</td>\n",
       "      <td>43.4330</td>\n",
       "      <td>712958</td>\n",
       "      <td>0</td>\n",
       "      <td>0</td>\n",
       "      <td>0</td>\n",
       "      <td>None</td>\n",
       "    </tr>\n",
       "    <tr>\n",
       "      <th>1</th>\n",
       "      <td>True</td>\n",
       "      <td>Delfina Gómez Álvarez</td>\n",
       "      <td>PVEM_PT_MORENA</td>\n",
       "      <td>#b3282d</td>\n",
       "      <td>881645</td>\n",
       "      <td>53.7093</td>\n",
       "      <td>881645</td>\n",
       "      <td>0</td>\n",
       "      <td>0</td>\n",
       "      <td>0</td>\n",
       "      <td>None</td>\n",
       "    </tr>\n",
       "  </tbody>\n",
       "</table>\n",
       "</div>"
      ],
      "text/plain": [
       "   ganando                            nombre       candidatura    color  \\\n",
       "0    False  Paulina Alejandra Del Moral Vela  PAN_PRI_PRD_NAEM  #006bb6   \n",
       "1     True             Delfina Gómez Álvarez    PVEM_PT_MORENA  #b3282d   \n",
       "\n",
       "   totalVotos  porcentajeTotalVotos  casilla  extranjero  anticipado  prision  \\\n",
       "0      712958               43.4330   712958           0           0        0   \n",
       "1      881645               53.7093   881645           0           0        0   \n",
       "\n",
       "  distribucion  \n",
       "0         None  \n",
       "1         None  "
      ]
     },
     "execution_count": 14,
     "metadata": {},
     "output_type": "execute_result"
    }
   ],
   "source": [
    "df"
   ]
  },
  {
   "cell_type": "code",
   "execution_count": 15,
   "metadata": {},
   "outputs": [],
   "source": [
    "plt.rcParams[\"font.family\"] = \"Montserrat\""
   ]
  },
  {
   "cell_type": "code",
   "execution_count": 16,
   "metadata": {},
   "outputs": [
    {
     "data": {
      "text/plain": [
       "Text(0.95, 0.01, 'Fuente: @claudiodanielpc con información del Instituto Electoral del Estado de México')"
      ]
     },
     "execution_count": 16,
     "metadata": {},
     "output_type": "execute_result"
    },
    {
     "data": {
      "image/png": "[encoded data removed]",
      "text/plain": [
       "<Figure size 640x480 with 1 Axes>"
      ]
     },
     "metadata": {},
     "output_type": "display_data"
    }
   ],
   "source": [
    "#Gráfica de barras\n",
    "plt.bar(df[\"nombre\"],df[\"porcentajeTotalVotos\"], color=\"#756bb1\")\n",
    "#Título \n",
    "plt.title(\"Porcentaje de votos por candidata a la gubernatura del Estado de México\", weight=\"bold\",fontsize=14)\n",
    "#Eliminar los bordes\n",
    "plt.box(False)\n",
    "#Eliminar eje y\n",
    "plt.yticks([])\n",
    "#Etiquetas encima de las barras redondeadas a un decimal\n",
    "for index, row in df.iterrows():\n",
    "    plt.text(index,row[\"porcentajeTotalVotos\"],round(row[\"porcentajeTotalVotos\"],1),ha=\"center\",va=\"bottom\", fontsize=12, weight=\"bold\")\n",
    "#Fuente de la gráfica\n",
    "plt.figtext(0.95,0.01,\"Fuente: @claudiodanielpc con información del Instituto Electoral del Estado de México\",ha=\"right\",fontsize=8)"
   ]
  }
 ],
 "metadata": {
  "kernelspec": {
   "display_name": "base",
   "language": "python",
   "name": "python3"
  },
  "language_info": {
   "codemirror_mode": {
    "name": "ipython",
    "version": 3
   },
   "file_extension": ".py",
   "mimetype": "text/x-python",
   "name": "python",
   "nbconvert_exporter": "python",
   "pygments_lexer": "ipython3",
   "version": "3.9.13"
  },
  "orig_nbformat": 4
 },
 "nbformat": 4,
 "nbformat_minor": 2
}
