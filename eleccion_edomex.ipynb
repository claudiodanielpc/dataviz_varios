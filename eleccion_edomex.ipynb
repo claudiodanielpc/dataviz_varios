{
 "cells": [
  {
   "cell_type": "code",
   "execution_count": 26,
   "metadata": {},
   "outputs": [],
   "source": [
    "import pandas as pd\n",
    "import requests\n",
    "from matplotlib import pyplot as plt"
   ]
  },
  {
   "cell_type": "code",
   "execution_count": 27,
   "metadata": {},
   "outputs": [],
   "source": [
    "url=\"https://prep.ieem.org.mx/data/json/gubernatura/entidad-candidatura-ppci.json\""
   ]
  },
  {
   "cell_type": "code",
   "execution_count": 28,
   "metadata": {},
   "outputs": [],
   "source": [
    "headers = {'User-Agent': 'Mozilla/5.0 (Windows NT 10.0; Win64; x64) AppleWebKit/537.36 (KHTML, like Gecko) Chrome/113.0.0.0 Safari/537.36'}\n"
   ]
  },
  {
   "cell_type": "code",
   "execution_count": 29,
   "metadata": {},
   "outputs": [],
   "source": [
    "data=requests.get(url,headers=headers).json()"
   ]
  },
  {
   "cell_type": "code",
   "execution_count": 30,
   "metadata": {},
   "outputs": [
    {
     "data": {
      "text/plain": [
       "{'votosCandidatura': [{'ganando': False,\n",
       "   'nombre': 'Paulina Alejandra Del Moral Vela',\n",
       "   'candidatura': 'PAN_PRI_PRD_NAEM',\n",
       "   'color': '#006bb6',\n",
       "   'totalVotos': 2730543,\n",
       "   'porcentajeTotalVotos': '44.3261',\n",
       "   'casilla': 2730543,\n",
       "   'extranjero': 0,\n",
       "   'anticipado': 0,\n",
       "   'prision': 0,\n",
       "   'distribucion': None},\n",
       "  {'ganando': True,\n",
       "   'nombre': 'Delfina Gómez Álvarez',\n",
       "   'candidatura': 'PVEM_PT_MORENA',\n",
       "   'color': '#b3282d',\n",
       "   'totalVotos': 3244412,\n",
       "   'porcentajeTotalVotos': '52.6679',\n",
       "   'casilla': 3244412,\n",
       "   'extranjero': 0,\n",
       "   'anticipado': 0,\n",
       "   'prision': 0,\n",
       "   'distribucion': None}],\n",
       " 'votosPpci': [{'ppci': 'PAN',\n",
       "   'color': '#006bb6',\n",
       "   'totalVotos': 697004,\n",
       "   'porcentajeTotalVotos': '11.3147',\n",
       "   'casilla': 697004,\n",
       "   'extranjero': 0,\n",
       "   'anticipado': 0,\n",
       "   'prision': 0},\n",
       "  {'ppci': 'PRI',\n",
       "   'color': '#ef3e42',\n",
       "   'totalVotos': 1732884,\n",
       "   'porcentajeTotalVotos': '28.1306',\n",
       "   'casilla': 1732884,\n",
       "   'extranjero': 0,\n",
       "   'anticipado': 0,\n",
       "   'prision': 0},\n",
       "  {'ppci': 'PRD',\n",
       "   'color': '#ffce00',\n",
       "   'totalVotos': 181539,\n",
       "   'porcentajeTotalVotos': '2.9470',\n",
       "   'casilla': 181539,\n",
       "   'extranjero': 0,\n",
       "   'anticipado': 0,\n",
       "   'prision': 0},\n",
       "  {'ppci': 'PVEM',\n",
       "   'color': '#4daf59',\n",
       "   'totalVotos': 619082,\n",
       "   'porcentajeTotalVotos': '10.0498',\n",
       "   'casilla': None,\n",
       "   'extranjero': None,\n",
       "   'anticipado': None,\n",
       "   'prision': None},\n",
       "  {'ppci': 'PT',\n",
       "   'color': '#ed1c24',\n",
       "   'totalVotos': 456681,\n",
       "   'porcentajeTotalVotos': '7.4135',\n",
       "   'casilla': None,\n",
       "   'extranjero': None,\n",
       "   'anticipado': None,\n",
       "   'prision': None},\n",
       "  {'ppci': 'MORENA',\n",
       "   'color': '#b3282d',\n",
       "   'totalVotos': 2168649,\n",
       "   'porcentajeTotalVotos': '35.2046',\n",
       "   'casilla': None,\n",
       "   'extranjero': None,\n",
       "   'anticipado': None,\n",
       "   'prision': None},\n",
       "  {'ppci': 'NAEM',\n",
       "   'color': '#00abbd',\n",
       "   'totalVotos': 119116,\n",
       "   'porcentajeTotalVotos': '1.9336',\n",
       "   'casilla': 119116,\n",
       "   'extranjero': 0,\n",
       "   'anticipado': 0,\n",
       "   'prision': 0}],\n",
       " 'resumenVotacion': {'resumenCompleto': True,\n",
       "  'mostrarObservaciones': False,\n",
       "  'casilla': 5974955,\n",
       "  'porcentajeCasilla': '96.9941',\n",
       "  'extranjero': 0,\n",
       "  'porcentajeExtranjero': '0.0000',\n",
       "  'anticipado': 0,\n",
       "  'porcentajeAnticipado': '0.0000',\n",
       "  'prision': 0,\n",
       "  'porcentajePrision': '0.0000',\n",
       "  'acumulados': 5974955,\n",
       "  'porcentajeAcumulados': '96.9941',\n",
       "  'noRegistradas': 11625,\n",
       "  'porcentajeNoRegistradas': '0.1887',\n",
       "  'nulos': 173541,\n",
       "  'porcentajeNulos': '2.8171',\n",
       "  'totalVotos': 6160121,\n",
       "  'porcentajeTotalVotos': '100.0000'},\n",
       " 'estadisticaActas': {'esperadas': 20442,\n",
       "  'porcentajeEsperadas': '100.0000',\n",
       "  'capturadas': 20143,\n",
       "  'porcentajeCapturadas': '98.5373',\n",
       "  'contabilizadas': 19722,\n",
       "  'porcentajeContabilizadas': '96.4778',\n",
       "  'urbanas': 15458,\n",
       "  'noUrbanas': 4264},\n",
       " 'estadisticaListaNominal': {'listaNominalContabilizadas': 12248177,\n",
       "  'listaNominalAprobadas': 12739629,\n",
       "  'porcentajeListaNominal': '96.1423',\n",
       "  'votosSinEspeciales': 6104728,\n",
       "  'votosEnEspeciales': 55393,\n",
       "  'totalVotos': 6160121,\n",
       "  'esUltimoCorte': False},\n",
       " 'estadisticaFormula': {'votos': 6104728,\n",
       "  'listaNominalContabilizadas': 12248177,\n",
       "  'porcentajeParticipacion': '49.8419',\n",
       "  'esUltimoCorte': False}}"
      ]
     },
     "execution_count": 30,
     "metadata": {},
     "output_type": "execute_result"
    }
   ],
   "source": [
    "data"
   ]
  },
  {
   "cell_type": "code",
   "execution_count": 31,
   "metadata": {},
   "outputs": [],
   "source": [
    "df=pd.DataFrame(data[\"votosCandidatura\"])\n",
    "df[\"porcentajeTotalVotos\"]=df[\"porcentajeTotalVotos\"].astype(float)"
   ]
  },
  {
   "cell_type": "code",
   "execution_count": 32,
   "metadata": {},
   "outputs": [
    {
     "data": {
      "text/html": [
       "<div>\n",
       "<style scoped>\n",
       "    .dataframe tbody tr th:only-of-type {\n",
       "        vertical-align: middle;\n",
       "    }\n",
       "\n",
       "    .dataframe tbody tr th {\n",
       "        vertical-align: top;\n",
       "    }\n",
       "\n",
       "    .dataframe thead th {\n",
       "        text-align: right;\n",
       "    }\n",
       "</style>\n",
       "<table border=\"1\" class=\"dataframe\">\n",
       "  <thead>\n",
       "    <tr style=\"text-align: right;\">\n",
       "      <th></th>\n",
       "      <th>ganando</th>\n",
       "      <th>nombre</th>\n",
       "      <th>candidatura</th>\n",
       "      <th>color</th>\n",
       "      <th>totalVotos</th>\n",
       "      <th>porcentajeTotalVotos</th>\n",
       "      <th>casilla</th>\n",
       "      <th>extranjero</th>\n",
       "      <th>anticipado</th>\n",
       "      <th>prision</th>\n",
       "      <th>distribucion</th>\n",
       "    </tr>\n",
       "  </thead>\n",
       "  <tbody>\n",
       "    <tr>\n",
       "      <th>0</th>\n",
       "      <td>False</td>\n",
       "      <td>Paulina Alejandra Del Moral Vela</td>\n",
       "      <td>PAN_PRI_PRD_NAEM</td>\n",
       "      <td>#006bb6</td>\n",
       "      <td>2730543</td>\n",
       "      <td>44.3261</td>\n",
       "      <td>2730543</td>\n",
       "      <td>0</td>\n",
       "      <td>0</td>\n",
       "      <td>0</td>\n",
       "      <td>None</td>\n",
       "    </tr>\n",
       "    <tr>\n",
       "      <th>1</th>\n",
       "      <td>True</td>\n",
       "      <td>Delfina Gómez Álvarez</td>\n",
       "      <td>PVEM_PT_MORENA</td>\n",
       "      <td>#b3282d</td>\n",
       "      <td>3244412</td>\n",
       "      <td>52.6679</td>\n",
       "      <td>3244412</td>\n",
       "      <td>0</td>\n",
       "      <td>0</td>\n",
       "      <td>0</td>\n",
       "      <td>None</td>\n",
       "    </tr>\n",
       "  </tbody>\n",
       "</table>\n",
       "</div>"
      ],
      "text/plain": [
       "   ganando                            nombre       candidatura    color  \\\n",
       "0    False  Paulina Alejandra Del Moral Vela  PAN_PRI_PRD_NAEM  #006bb6   \n",
       "1     True             Delfina Gómez Álvarez    PVEM_PT_MORENA  #b3282d   \n",
       "\n",
       "   totalVotos  porcentajeTotalVotos  casilla  extranjero  anticipado  prision  \\\n",
       "0     2730543               44.3261  2730543           0           0        0   \n",
       "1     3244412               52.6679  3244412           0           0        0   \n",
       "\n",
       "  distribucion  \n",
       "0         None  \n",
       "1         None  "
      ]
     },
     "execution_count": 32,
     "metadata": {},
     "output_type": "execute_result"
    }
   ],
   "source": [
    "df"
   ]
  },
  {
   "cell_type": "code",
   "execution_count": 33,
   "metadata": {},
   "outputs": [],
   "source": [
    "plt.rcParams[\"font.family\"] = \"Montserrat\""
   ]
  },
  {
   "cell_type": "code",
   "execution_count": 34,
   "metadata": {},
   "outputs": [
    {
     "data": {
      "text/plain": [
       "Text(0.95, 0.01, 'Fuente: @claudiodanielpc con información del Instituto Electoral del Estado de México')"
      ]
     },
     "execution_count": 34,
     "metadata": {},
     "output_type": "execute_result"
    },
    {
     "data": {
      "image/png": "[encoded data removed]",
      "text/plain": [
       "<Figure size 640x480 with 1 Axes>"
      ]
     },
     "metadata": {},
     "output_type": "display_data"
    }
   ],
   "source": [
    "#Gráfica de barras\n",
    "plt.bar(df[\"nombre\"],df[\"porcentajeTotalVotos\"], color=\"#756bb1\")\n",
    "#Título \n",
    "plt.title(\"Porcentaje de votos por candidata a la gubernatura del Estado de México\", weight=\"bold\",fontsize=14)\n",
    "#Eliminar los bordes\n",
    "plt.box(False)\n",
    "#Eliminar eje y\n",
    "plt.yticks([])\n",
    "#Etiquetas encima de las barras redondeadas a un decimal\n",
    "for index, row in df.iterrows():\n",
    "    plt.text(index,row[\"porcentajeTotalVotos\"],round(row[\"porcentajeTotalVotos\"],1),ha=\"center\",va=\"bottom\", fontsize=12, weight=\"bold\")\n",
    "#Fuente de la gráfica\n",
    "plt.figtext(0.95,0.01,\"Fuente: @claudiodanielpc con información del Instituto Electoral del Estado de México\",ha=\"right\",fontsize=8)"
   ]
  }
 ],
 "metadata": {
  "kernelspec": {
   "display_name": "base",
   "language": "python",
   "name": "python3"
  },
  "language_info": {
   "codemirror_mode": {
    "name": "ipython",
    "version": 3
   },
   "file_extension": ".py",
   "mimetype": "text/x-python",
   "name": "python",
   "nbconvert_exporter": "python",
   "pygments_lexer": "ipython3",
   "version": "3.9.13"
  },
  "orig_nbformat": 4
 },
 "nbformat": 4,
 "nbformat_minor": 2
}
