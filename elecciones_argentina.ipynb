{
 "cells": [
  {
   "cell_type": "code",
   "execution_count": 77,
   "metadata": {},
   "outputs": [],
   "source": [
    "import pandas as pd\n",
    "import requests"
   ]
  },
  {
   "cell_type": "code",
   "execution_count": 78,
   "metadata": {},
   "outputs": [],
   "source": [
    "url=\"https://resultados.gob.ar/backend-difu/scope/data/getScopeData/00000000000000000000000b/1/1\"\n",
    "\n",
    "headers={\"User-Agent\":\"Mozilla/5.0 (Windows NT 10.0; Win64; x64) AppleWebKit/537.36 (KHTML, like Gecko) Chrome/119.0.0.0 Safari/537.36\"}"
   ]
  },
  {
   "cell_type": "code",
   "execution_count": 79,
   "metadata": {},
   "outputs": [],
   "source": [
    "r=requests.get(url,headers=headers)\n",
    "r.status_code\n",
    "contenido=r.json()"
   ]
  },
  {
   "cell_type": "code",
   "execution_count": 80,
   "metadata": {},
   "outputs": [],
   "source": [
    "#Obtener datos de la elección\n",
    "formula=[]\n",
    "candidatos=[]\n",
    "votos=[]\n",
    "pct=[]\n",
    "for datos in contenido[\"partidos\"]:\n",
    "    formula.append(datos[\"name\"])\n",
    "    candidatos.append(datos[\"candidatos\"])\n",
    "    votos.append(datos[\"votos\"])\n",
    "    pct.append(datos[\"perc\"])"
   ]
  },
  {
   "cell_type": "code",
   "execution_count": 81,
   "metadata": {},
   "outputs": [
    {
     "data": {
      "text/html": [
       "<div>\n",
       "<style scoped>\n",
       "    .dataframe tbody tr th:only-of-type {\n",
       "        vertical-align: middle;\n",
       "    }\n",
       "\n",
       "    .dataframe tbody tr th {\n",
       "        vertical-align: top;\n",
       "    }\n",
       "\n",
       "    .dataframe thead th {\n",
       "        text-align: right;\n",
       "    }\n",
       "</style>\n",
       "<table border=\"1\" class=\"dataframe\">\n",
       "  <thead>\n",
       "    <tr style=\"text-align: right;\">\n",
       "      <th></th>\n",
       "      <th>formula</th>\n",
       "      <th>votos</th>\n",
       "      <th>pct</th>\n",
       "      <th>candidato_presidente</th>\n",
       "      <th>candidato_vicepresidente</th>\n",
       "    </tr>\n",
       "  </thead>\n",
       "  <tbody>\n",
       "    <tr>\n",
       "      <th>0</th>\n",
       "      <td>LA LIBERTAD AVANZA</td>\n",
       "      <td>14410686.0</td>\n",
       "      <td>55.72</td>\n",
       "      <td>JAVIER GERARDO MILEI</td>\n",
       "      <td>VICTORIA VILLARRUEL</td>\n",
       "    </tr>\n",
       "    <tr>\n",
       "      <th>1</th>\n",
       "      <td>UNION POR LA PATRIA</td>\n",
       "      <td>11447491.0</td>\n",
       "      <td>44.27</td>\n",
       "      <td>SERGIO TOMAS MASSA</td>\n",
       "      <td>AGUSTIN ROSSI</td>\n",
       "    </tr>\n",
       "  </tbody>\n",
       "</table>\n",
       "</div>"
      ],
      "text/plain": [
       "               formula       votos    pct  candidato_presidente  \\\n",
       "0   LA LIBERTAD AVANZA  14410686.0  55.72  JAVIER GERARDO MILEI   \n",
       "1  UNION POR LA PATRIA  11447491.0  44.27    SERGIO TOMAS MASSA   \n",
       "\n",
       "  candidato_vicepresidente  \n",
       "0      VICTORIA VILLARRUEL  \n",
       "1            AGUSTIN ROSSI  "
      ]
     },
     "execution_count": 81,
     "metadata": {},
     "output_type": "execute_result"
    }
   ],
   "source": [
    "#Pasar a dataframe\n",
    "df=pd.DataFrame({\"formula\":formula,\"candidatos\":candidatos,\"votos\":votos,\"pct\":pct})\n",
    "df[\"candidato_presidente\"]=df[\"candidatos\"].str[0]\n",
    "df[\"candidato_vicepresidente\"]=df[\"candidatos\"].str[1]\n",
    "df=df.drop(columns=[\"candidatos\"])\n",
    "df"
   ]
  }
 ],
 "metadata": {
  "kernelspec": {
   "display_name": "base",
   "language": "python",
   "name": "python3"
  },
  "language_info": {
   "codemirror_mode": {
    "name": "ipython",
    "version": 3
   },
   "file_extension": ".py",
   "mimetype": "text/x-python",
   "name": "python",
   "nbconvert_exporter": "python",
   "pygments_lexer": "ipython3",
   "version": "3.10.12"
  }
 },
 "nbformat": 4,
 "nbformat_minor": 2
}
