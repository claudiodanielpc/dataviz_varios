{
 "cells": [
  {
   "cell_type": "markdown",
   "id": "eb343d91",
   "metadata": {},
   "source": [
    "### Estimación de sexo de propietarios de viviendas\n",
    "\n",
    "Para este cálculo, se considera el subconjunto de viviendas que son propias o propias en proceso de pago. Para la identificación del dueño, se utiliza únicamente el del primer dueño que captura la ENIGH."
   ]
  },
  {
   "cell_type": "code",
   "execution_count": 1,
   "id": "451935dc",
   "metadata": {
    "vscode": {
     "languageId": "r"
    }
   },
   "outputs": [
    {
     "name": "stderr",
     "output_type": "stream",
     "text": [
      "Cargando paquete requerido: pacman\n",
      "\n"
     ]
    }
   ],
   "source": [
    "rm(list=ls())\n",
    "\n",
    "# Librerías ====\n",
    "if(!require('pacman')) install.packages('pacman')\n",
    "pacman::p_load(tidyverse, showtext, srvyr,gt)\n",
    "font_add_google(\"Poppins\", \"pop\")\n",
    "showtext_auto()"
   ]
  },
  {
   "cell_type": "code",
   "execution_count": 2,
   "id": "1241d290",
   "metadata": {
    "vscode": {
     "languageId": "r"
    }
   },
   "outputs": [],
   "source": [
    "#Crear directorio para guardar los archivos\n",
    "dir.create(\"data\", showWarnings = FALSE)"
   ]
  },
  {
   "cell_type": "code",
   "execution_count": 3,
   "id": "13319569",
   "metadata": {
    "vscode": {
     "languageId": "r"
    }
   },
   "outputs": [],
   "source": [
    "#Datos básicos de URL para descarga\n",
    "url_basica <- \"https://www.inegi.org.mx/contenidos/programas/enigh/nc/\"\n",
    "segunda_parte <- \"microdatos/enigh\"\n",
    "years <- c(\"2016\", \"2018\", \"2020\", \"2022\",\"2024\")\n",
    "tipos <- c(\"ns_viviendas\", \"ns_poblacion\")"
   ]
  },
  {
   "cell_type": "code",
   "execution_count": 4,
   "id": "e4f36e4b",
   "metadata": {
    "vscode": {
     "languageId": "r"
    }
   },
   "outputs": [],
   "source": [
    "#Descarga archivos\n",
    "for (i in seq_along(years)) {\n",
    "  for (tipo in tipos) {\n",
    "    fin <- paste0(\"_\", tipo, \"_csv.zip\")\n",
    "    url <- paste0(url_basica, years[i], \"/\", segunda_parte, years[i], fin)\n",
    "    destfile <- paste0(\"data/\", years[i], fin)\n",
    "    \n",
    "    # Descargar archivo zip\n",
    "    download.file(url, destfile = destfile)\n",
    "\n",
    "    # Crear carpeta temporal de extracción (por año y tipo)\n",
    "    carpeta_temporal <- paste0(\"data/tmp_\", tipo, \"_\", years[i])\n",
    "    dir.create(carpeta_temporal, showWarnings = FALSE)\n",
    "    \n",
    "    # Descomprimir en la carpeta temporal\n",
    "    unzip(destfile, exdir = carpeta_temporal)\n",
    "\n",
    "    # Detectar archivo .csv en la carpeta temporal\n",
    "    archivos_csv <- list.files(carpeta_temporal, pattern = \"\\\\.csv$\", full.names = TRUE)\n",
    "    \n",
    "    if (length(archivos_csv) == 1) {\n",
    "      # Eliminar prefijo \"ns_\" si existe\n",
    "      tipo_limpio <- sub(\"^ns_\", \"\", tipo)\n",
    "      nombre_destino <- paste0(\"data/\", tipo_limpio, \"_\", years[i], \".csv\")\n",
    "      file.rename(archivos_csv, nombre_destino)\n",
    "    } else {\n",
    "      warning(paste(\"No se encontró archivo .csv único en:\", carpeta_temporal))\n",
    "    }\n",
    "\n",
    "    # Eliminar carpeta temporal después de mover\n",
    "    unlink(carpeta_temporal, recursive = TRUE)\n",
    "  }\n",
    "}"
   ]
  },
  {
   "cell_type": "code",
   "execution_count": 5,
   "id": "b37a423b",
   "metadata": {
    "vscode": {
     "languageId": "r"
    }
   },
   "outputs": [
    {
     "data": {
      "text/html": [
       "<style>\n",
       ".list-inline {list-style: none; margin:0; padding: 0}\n",
       ".list-inline>li {display: inline-block}\n",
       ".list-inline>li:not(:last-child)::after {content: \"\\00b7\"; padding: 0 .5ex}\n",
       "</style>\n",
       "<ol class=list-inline><li>'data/viviendas_2016.csv'</li><li>'data/viviendas_2018.csv'</li><li>'data/viviendas_2020.csv'</li><li>'data/viviendas_2022.csv'</li><li>'data/viviendas_2024.csv'</li></ol>\n"
      ],
      "text/latex": [
       "\\begin{enumerate*}\n",
       "\\item 'data/viviendas\\_2016.csv'\n",
       "\\item 'data/viviendas\\_2018.csv'\n",
       "\\item 'data/viviendas\\_2020.csv'\n",
       "\\item 'data/viviendas\\_2022.csv'\n",
       "\\item 'data/viviendas\\_2024.csv'\n",
       "\\end{enumerate*}\n"
      ],
      "text/markdown": [
       "1. 'data/viviendas_2016.csv'\n",
       "2. 'data/viviendas_2018.csv'\n",
       "3. 'data/viviendas_2020.csv'\n",
       "4. 'data/viviendas_2022.csv'\n",
       "5. 'data/viviendas_2024.csv'\n",
       "\n",
       "\n"
      ],
      "text/plain": [
       "[1] \"data/viviendas_2016.csv\" \"data/viviendas_2018.csv\"\n",
       "[3] \"data/viviendas_2020.csv\" \"data/viviendas_2022.csv\"\n",
       "[5] \"data/viviendas_2024.csv\""
      ]
     },
     "metadata": {},
     "output_type": "display_data"
    },
    {
     "data": {
      "text/html": [
       "<style>\n",
       ".list-inline {list-style: none; margin:0; padding: 0}\n",
       ".list-inline>li {display: inline-block}\n",
       ".list-inline>li:not(:last-child)::after {content: \"\\00b7\"; padding: 0 .5ex}\n",
       "</style>\n",
       "<ol class=list-inline><li>'data/poblacion_2016.csv'</li><li>'data/poblacion_2018.csv'</li><li>'data/poblacion_2020.csv'</li><li>'data/poblacion_2022.csv'</li><li>'data/poblacion_2024.csv'</li></ol>\n"
      ],
      "text/latex": [
       "\\begin{enumerate*}\n",
       "\\item 'data/poblacion\\_2016.csv'\n",
       "\\item 'data/poblacion\\_2018.csv'\n",
       "\\item 'data/poblacion\\_2020.csv'\n",
       "\\item 'data/poblacion\\_2022.csv'\n",
       "\\item 'data/poblacion\\_2024.csv'\n",
       "\\end{enumerate*}\n"
      ],
      "text/markdown": [
       "1. 'data/poblacion_2016.csv'\n",
       "2. 'data/poblacion_2018.csv'\n",
       "3. 'data/poblacion_2020.csv'\n",
       "4. 'data/poblacion_2022.csv'\n",
       "5. 'data/poblacion_2024.csv'\n",
       "\n",
       "\n"
      ],
      "text/plain": [
       "[1] \"data/poblacion_2016.csv\" \"data/poblacion_2018.csv\"\n",
       "[3] \"data/poblacion_2020.csv\" \"data/poblacion_2022.csv\"\n",
       "[5] \"data/poblacion_2024.csv\""
      ]
     },
     "metadata": {},
     "output_type": "display_data"
    }
   ],
   "source": [
    "#Listas de archivos\n",
    "archivosviv<-list.files(\"data\", full.names = TRUE, pattern = \"viviendas_.*.csv\")\n",
    "archivospob<- list.files(\"data\", full.names = TRUE, pattern = \"poblacion_.*.csv\")\n",
    "\n",
    "archivosviv\n",
    "archivospob"
   ]
  },
  {
   "cell_type": "code",
   "execution_count": 6,
   "id": "9b701968",
   "metadata": {
    "vscode": {
     "languageId": "r"
    }
   },
   "outputs": [],
   "source": [
    "estimacion_propietarios_sexo <- function(path_viv, path_pob) {\n",
    "  # Leer población y crear clave de unión\n",
    "  pob <- read_csv(path_pob, show_col_types = FALSE) %>%\n",
    "    mutate(claveconcat = paste0(folioviv, foliohog, numren)) %>%\n",
    "    select(claveconcat, sexo)\n",
    "\n",
    "  # Leer viviendas y crear clave de unión\n",
    "  vivi <- read_csv(path_viv, show_col_types = FALSE) %>%\n",
    "    mutate(claveconcat = paste0(folioviv, hog_dueno1, num_dueno1)) %>%\n",
    "    #Pegar población\n",
    "    left_join(pob, by = \"claveconcat\")\n",
    "\n",
    "  # Crear diseño muestral\n",
    "  dm <- vivi %>%\n",
    "    as_survey_design(ids = upm,\n",
    "                     strata = est_dis,\n",
    "                     weights = factor)\n",
    "\n",
    "  # Estimar propietarios de viviendas propias o en proceso de pago, por sexo\n",
    "  vivienda_propietarios <- dm %>%\n",
    "  #Filtro de viviendas propias o propias en proceso de pago\n",
    "    filter(tenencia %in% c(3, 4)) %>%\n",
    "    group_by(sexo) %>%\n",
    "    summarise(\n",
    "      viviendas = survey_total(vartype = \"cv\"),\n",
    "      pct = survey_prop(vartype = \"cv\")\n",
    "    ) %>%\n",
    "    mutate(\n",
    "      pct = round(pct * 100, 1),\n",
    "      sexo = case_when(\n",
    "        sexo == 1 ~ \"Hombres\",\n",
    "        sexo == 2 ~ \"Mujeres\",\n",
    "        TRUE ~ \"No especificado\"\n",
    "      ),\n",
    "      year = substr(path_viv, 16, 19)\n",
    "    )\n",
    "\n",
    "  return(vivienda_propietarios)\n",
    "}\n"
   ]
  },
  {
   "cell_type": "code",
   "execution_count": 7,
   "id": "810fd288",
   "metadata": {
    "vscode": {
     "languageId": "r"
    }
   },
   "outputs": [
    {
     "name": "stderr",
     "output_type": "stream",
     "text": [
      "Warning message:\n",
      "\"\u001b[1m\u001b[22mOne or more parsing issues, call `problems()` on your data frame for details,\n",
      "e.g.:\n",
      "  dat <- vroom(...)\n",
      "  problems(dat)\"\n",
      "Warning message:\n",
      "\"\u001b[1m\u001b[22mOne or more parsing issues, call `problems()` on your data frame for details,\n",
      "e.g.:\n",
      "  dat <- vroom(...)\n",
      "  problems(dat)\"\n",
      "Warning message:\n",
      "\"\u001b[1m\u001b[22mOne or more parsing issues, call `problems()` on your data frame for details,\n",
      "e.g.:\n",
      "  dat <- vroom(...)\n",
      "  problems(dat)\"\n",
      "Warning message:\n",
      "\"\u001b[1m\u001b[22mOne or more parsing issues, call `problems()` on your data frame for details,\n",
      "e.g.:\n",
      "  dat <- vroom(...)\n",
      "  problems(dat)\"\n",
      "Warning message:\n",
      "\"\u001b[1m\u001b[22mOne or more parsing issues, call `problems()` on your data frame for details,\n",
      "e.g.:\n",
      "  dat <- vroom(...)\n",
      "  problems(dat)\"\n",
      "Warning message:\n",
      "\"\u001b[1m\u001b[22mOne or more parsing issues, call `problems()` on your data frame for details,\n",
      "e.g.:\n",
      "  dat <- vroom(...)\n",
      "  problems(dat)\"\n",
      "Warning message:\n",
      "\"\u001b[1m\u001b[22mOne or more parsing issues, call `problems()` on your data frame for details,\n",
      "e.g.:\n",
      "  dat <- vroom(...)\n",
      "  problems(dat)\"\n",
      "Warning message:\n",
      "\"\u001b[1m\u001b[22mOne or more parsing issues, call `problems()` on your data frame for details,\n",
      "e.g.:\n",
      "  dat <- vroom(...)\n",
      "  problems(dat)\"\n",
      "Warning message:\n",
      "\"\u001b[1m\u001b[22mOne or more parsing issues, call `problems()` on your data frame for details,\n",
      "e.g.:\n",
      "  dat <- vroom(...)\n",
      "  problems(dat)\"\n",
      "Warning message:\n",
      "\"\u001b[1m\u001b[22mOne or more parsing issues, call `problems()` on your data frame for details,\n",
      "e.g.:\n",
      "  dat <- vroom(...)\n",
      "  problems(dat)\"\n"
     ]
    },
    {
     "data": {
      "text/html": [
       "<table class=\"dataframe\">\n",
       "<caption>A tibble: 10 × 6</caption>\n",
       "<thead>\n",
       "\t<tr><th scope=col>sexo</th><th scope=col>viviendas</th><th scope=col>viviendas_cv</th><th scope=col>pct</th><th scope=col>pct_cv</th><th scope=col>year</th></tr>\n",
       "\t<tr><th scope=col>&lt;chr&gt;</th><th scope=col>&lt;dbl&gt;</th><th scope=col>&lt;dbl&gt;</th><th scope=col>&lt;dbl&gt;</th><th scope=col>&lt;dbl&gt;</th><th scope=col>&lt;chr&gt;</th></tr>\n",
       "</thead>\n",
       "<tbody>\n",
       "\t<tr><td>Hombres</td><td>13794486</td><td>0.008493404</td><td>61.9</td><td>0.005681543</td><td>2016</td></tr>\n",
       "\t<tr><td>Mujeres</td><td> 8477522</td><td>0.010605616</td><td>38.1</td><td>0.009244915</td><td>2016</td></tr>\n",
       "\t<tr><td>Hombres</td><td>14288058</td><td>0.007535759</td><td>61.9</td><td>0.004992601</td><td>2018</td></tr>\n",
       "\t<tr><td>Mujeres</td><td> 8776413</td><td>0.009718573</td><td>38.1</td><td>0.008127987</td><td>2018</td></tr>\n",
       "\t<tr><td>Hombres</td><td>14960116</td><td>0.007438282</td><td>61.1</td><td>0.004942629</td><td>2020</td></tr>\n",
       "\t<tr><td>Mujeres</td><td> 9544340</td><td>0.008925088</td><td>38.9</td><td>0.007747240</td><td>2020</td></tr>\n",
       "\t<tr><td>Hombres</td><td>15372727</td><td>0.007339941</td><td>59.8</td><td>0.005034697</td><td>2022</td></tr>\n",
       "\t<tr><td>Mujeres</td><td>10340581</td><td>0.008840445</td><td>40.2</td><td>0.007484784</td><td>2022</td></tr>\n",
       "\t<tr><td>Hombres</td><td>15635858</td><td>0.007893355</td><td>58.4</td><td>0.005486940</td><td>2024</td></tr>\n",
       "\t<tr><td>Mujeres</td><td>11159918</td><td>0.009113127</td><td>41.6</td><td>0.007687603</td><td>2024</td></tr>\n",
       "</tbody>\n",
       "</table>\n"
      ],
      "text/latex": [
       "A tibble: 10 × 6\n",
       "\\begin{tabular}{llllll}\n",
       " sexo & viviendas & viviendas\\_cv & pct & pct\\_cv & year\\\\\n",
       " <chr> & <dbl> & <dbl> & <dbl> & <dbl> & <chr>\\\\\n",
       "\\hline\n",
       "\t Hombres & 13794486 & 0.008493404 & 61.9 & 0.005681543 & 2016\\\\\n",
       "\t Mujeres &  8477522 & 0.010605616 & 38.1 & 0.009244915 & 2016\\\\\n",
       "\t Hombres & 14288058 & 0.007535759 & 61.9 & 0.004992601 & 2018\\\\\n",
       "\t Mujeres &  8776413 & 0.009718573 & 38.1 & 0.008127987 & 2018\\\\\n",
       "\t Hombres & 14960116 & 0.007438282 & 61.1 & 0.004942629 & 2020\\\\\n",
       "\t Mujeres &  9544340 & 0.008925088 & 38.9 & 0.007747240 & 2020\\\\\n",
       "\t Hombres & 15372727 & 0.007339941 & 59.8 & 0.005034697 & 2022\\\\\n",
       "\t Mujeres & 10340581 & 0.008840445 & 40.2 & 0.007484784 & 2022\\\\\n",
       "\t Hombres & 15635858 & 0.007893355 & 58.4 & 0.005486940 & 2024\\\\\n",
       "\t Mujeres & 11159918 & 0.009113127 & 41.6 & 0.007687603 & 2024\\\\\n",
       "\\end{tabular}\n"
      ],
      "text/markdown": [
       "\n",
       "A tibble: 10 × 6\n",
       "\n",
       "| sexo &lt;chr&gt; | viviendas &lt;dbl&gt; | viviendas_cv &lt;dbl&gt; | pct &lt;dbl&gt; | pct_cv &lt;dbl&gt; | year &lt;chr&gt; |\n",
       "|---|---|---|---|---|---|\n",
       "| Hombres | 13794486 | 0.008493404 | 61.9 | 0.005681543 | 2016 |\n",
       "| Mujeres |  8477522 | 0.010605616 | 38.1 | 0.009244915 | 2016 |\n",
       "| Hombres | 14288058 | 0.007535759 | 61.9 | 0.004992601 | 2018 |\n",
       "| Mujeres |  8776413 | 0.009718573 | 38.1 | 0.008127987 | 2018 |\n",
       "| Hombres | 14960116 | 0.007438282 | 61.1 | 0.004942629 | 2020 |\n",
       "| Mujeres |  9544340 | 0.008925088 | 38.9 | 0.007747240 | 2020 |\n",
       "| Hombres | 15372727 | 0.007339941 | 59.8 | 0.005034697 | 2022 |\n",
       "| Mujeres | 10340581 | 0.008840445 | 40.2 | 0.007484784 | 2022 |\n",
       "| Hombres | 15635858 | 0.007893355 | 58.4 | 0.005486940 | 2024 |\n",
       "| Mujeres | 11159918 | 0.009113127 | 41.6 | 0.007687603 | 2024 |\n",
       "\n"
      ],
      "text/plain": [
       "   sexo    viviendas viviendas_cv pct  pct_cv      year\n",
       "1  Hombres 13794486  0.008493404  61.9 0.005681543 2016\n",
       "2  Mujeres  8477522  0.010605616  38.1 0.009244915 2016\n",
       "3  Hombres 14288058  0.007535759  61.9 0.004992601 2018\n",
       "4  Mujeres  8776413  0.009718573  38.1 0.008127987 2018\n",
       "5  Hombres 14960116  0.007438282  61.1 0.004942629 2020\n",
       "6  Mujeres  9544340  0.008925088  38.9 0.007747240 2020\n",
       "7  Hombres 15372727  0.007339941  59.8 0.005034697 2022\n",
       "8  Mujeres 10340581  0.008840445  40.2 0.007484784 2022\n",
       "9  Hombres 15635858  0.007893355  58.4 0.005486940 2024\n",
       "10 Mujeres 11159918  0.009113127  41.6 0.007687603 2024"
      ]
     },
     "metadata": {},
     "output_type": "display_data"
    }
   ],
   "source": [
    "#Obtener datos para todos los años\n",
    "tabla_prop_sex <- map2_dfr(\n",
    "  archivosviv,\n",
    "  archivospob,\n",
    "  .f = ~ estimacion_propietarios_sexo(path_viv = .x, path_pob = .y)\n",
    ")\n",
    "tabla_prop_sex"
   ]
  },
  {
   "cell_type": "code",
   "execution_count": 8,
   "id": "2c628102",
   "metadata": {
    "vscode": {
     "languageId": "r"
    }
   },
   "outputs": [],
   "source": [
    "#Dataviz\n",
    "tabla_prop_sex%>%\n",
    "select(year,sexo,viviendas,pct)%>%\n",
    "#Separador de miles en viviendas\n",
    "mutate(viviendas = scales::comma(viviendas, big.mark = \",\"))%>%\n",
    "  pivot_wider(\n",
    "    names_from = sexo,\n",
    "    values_from = c(viviendas, pct),\n",
    "    names_sep = \"_\"\n",
    "  )%>%\n",
    "    gt() %>%\n",
    "      tab_options(table.font.names = 'Poppins',\n",
    "              source_notes.font.size = 8) %>%\n",
    "              tab_header(title = md(\"**Viviendas propias o en proceso de pago por sexo del dueño, 2016-2024**\"),\n",
    "             subtitle = md(\"*(Número de viviendas y porcentaje)*\")) %>%\n",
    "  tab_spanner(\n",
    "    label = md(\"**Sexo**\"),\n",
    "    columns = c(viviendas_Hombres, viviendas_Mujeres)\n",
    "  ) %>%\n",
    "  tab_spanner(\n",
    "    label = md(\"**Porcentaje**\"),\n",
    "    columns = c(pct_Hombres, pct_Mujeres)\n",
    "  ) %>%\n",
    "  cols_label(\n",
    "    year= md(\"**Año**\"),\n",
    "    viviendas_Hombres = md(\"**Hombres**\"),\n",
    "    viviendas_Mujeres = md(\"**Mujeres**\"),\n",
    "    pct_Hombres = md(\"**Porcentaje**\"),\n",
    "    pct_Mujeres = md(\"**Porcentaje**\")\n",
    "  ) %>%\n",
    "   cols_align(align = \"center\") %>%\n",
    "  tab_stubhead(label = \"Año\")%>%\n",
    "  tab_source_note(\n",
    "    md(\"Nota: Para este cálculo se consideran las viviendas propias o en proceso de pago y el identificador del primer dueño\")\n",
    "  ) %>%\n",
    "tab_source_note(\n",
    "    md(\"Fuente: @claudiodanielpc con datos de INEGI. Encuesta Nacional de Ingresos y Gastos de los Hogares (ENIGH) 2024.\")) %>%\n",
    "  #Eliminar bordes arriba y abajo\n",
    "  tab_options(table.border.top.width = px(0),\n",
    "              table.border.bottom.width = px(0)) %>%\n",
    "  tab_options(column_labels.background.color = \"#9F2241\")%>%\n",
    "    #Salvar tabla\n",
    "  gtsave(\"vivienda_prop_sex.png\")"
   ]
  }
 ],
 "metadata": {
  "kernelspec": {
   "display_name": "R",
   "language": "R",
   "name": "ir"
  },
  "language_info": {
   "codemirror_mode": "r",
   "file_extension": ".r",
   "mimetype": "text/x-r-source",
   "name": "R",
   "pygments_lexer": "r",
   "version": "4.4.1"
  }
 },
 "nbformat": 4,
 "nbformat_minor": 5
}
