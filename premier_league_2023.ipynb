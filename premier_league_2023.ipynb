{
 "cells": [
  {
   "cell_type": "code",
   "execution_count": 2,
   "metadata": {},
   "outputs": [],
   "source": [
    "import pandas as pd\n",
    "import requests\n",
    "import matplotlib.pyplot as plt\n",
    "import matplotlib.animation as animation\n"
   ]
  },
  {
   "cell_type": "code",
   "execution_count": 3,
   "metadata": {},
   "outputs": [],
   "source": [
    "url_inicio=\"https://footballapi.pulselive.com/football/standings?compSeasons=489&altIds=true&detail=2&FOOTBALL_COMPETITION=1&gameweekNumbers=1-\"\n",
    "url_final=\"&live=true\""
   ]
  },
  {
   "cell_type": "code",
   "execution_count": 4,
   "metadata": {},
   "outputs": [],
   "source": [
    "urls=[]\n",
    "for fechas in range(1,37):\n",
    "    urls.append(url_inicio+str(fechas)+url_final)"
   ]
  },
  {
   "cell_type": "code",
   "execution_count": 5,
   "metadata": {},
   "outputs": [
    {
     "data": {
      "text/plain": [
       "36"
      ]
     },
     "execution_count": 5,
     "metadata": {},
     "output_type": "execute_result"
    }
   ],
   "source": [
    "len(urls)"
   ]
  },
  {
   "cell_type": "code",
   "execution_count": 6,
   "metadata": {},
   "outputs": [
    {
     "data": {
      "text/plain": [
       "['https://footballapi.pulselive.com/football/standings?compSeasons=489&altIds=true&detail=2&FOOTBALL_COMPETITION=1&gameweekNumbers=1-1&live=true',\n",
       " 'https://footballapi.pulselive.com/football/standings?compSeasons=489&altIds=true&detail=2&FOOTBALL_COMPETITION=1&gameweekNumbers=1-2&live=true',\n",
       " 'https://footballapi.pulselive.com/football/standings?compSeasons=489&altIds=true&detail=2&FOOTBALL_COMPETITION=1&gameweekNumbers=1-3&live=true',\n",
       " 'https://footballapi.pulselive.com/football/standings?compSeasons=489&altIds=true&detail=2&FOOTBALL_COMPETITION=1&gameweekNumbers=1-4&live=true',\n",
       " 'https://footballapi.pulselive.com/football/standings?compSeasons=489&altIds=true&detail=2&FOOTBALL_COMPETITION=1&gameweekNumbers=1-5&live=true',\n",
       " 'https://footballapi.pulselive.com/football/standings?compSeasons=489&altIds=true&detail=2&FOOTBALL_COMPETITION=1&gameweekNumbers=1-6&live=true',\n",
       " 'https://footballapi.pulselive.com/football/standings?compSeasons=489&altIds=true&detail=2&FOOTBALL_COMPETITION=1&gameweekNumbers=1-7&live=true',\n",
       " 'https://footballapi.pulselive.com/football/standings?compSeasons=489&altIds=true&detail=2&FOOTBALL_COMPETITION=1&gameweekNumbers=1-8&live=true',\n",
       " 'https://footballapi.pulselive.com/football/standings?compSeasons=489&altIds=true&detail=2&FOOTBALL_COMPETITION=1&gameweekNumbers=1-9&live=true',\n",
       " 'https://footballapi.pulselive.com/football/standings?compSeasons=489&altIds=true&detail=2&FOOTBALL_COMPETITION=1&gameweekNumbers=1-10&live=true',\n",
       " 'https://footballapi.pulselive.com/football/standings?compSeasons=489&altIds=true&detail=2&FOOTBALL_COMPETITION=1&gameweekNumbers=1-11&live=true',\n",
       " 'https://footballapi.pulselive.com/football/standings?compSeasons=489&altIds=true&detail=2&FOOTBALL_COMPETITION=1&gameweekNumbers=1-12&live=true',\n",
       " 'https://footballapi.pulselive.com/football/standings?compSeasons=489&altIds=true&detail=2&FOOTBALL_COMPETITION=1&gameweekNumbers=1-13&live=true',\n",
       " 'https://footballapi.pulselive.com/football/standings?compSeasons=489&altIds=true&detail=2&FOOTBALL_COMPETITION=1&gameweekNumbers=1-14&live=true',\n",
       " 'https://footballapi.pulselive.com/football/standings?compSeasons=489&altIds=true&detail=2&FOOTBALL_COMPETITION=1&gameweekNumbers=1-15&live=true',\n",
       " 'https://footballapi.pulselive.com/football/standings?compSeasons=489&altIds=true&detail=2&FOOTBALL_COMPETITION=1&gameweekNumbers=1-16&live=true',\n",
       " 'https://footballapi.pulselive.com/football/standings?compSeasons=489&altIds=true&detail=2&FOOTBALL_COMPETITION=1&gameweekNumbers=1-17&live=true',\n",
       " 'https://footballapi.pulselive.com/football/standings?compSeasons=489&altIds=true&detail=2&FOOTBALL_COMPETITION=1&gameweekNumbers=1-18&live=true',\n",
       " 'https://footballapi.pulselive.com/football/standings?compSeasons=489&altIds=true&detail=2&FOOTBALL_COMPETITION=1&gameweekNumbers=1-19&live=true',\n",
       " 'https://footballapi.pulselive.com/football/standings?compSeasons=489&altIds=true&detail=2&FOOTBALL_COMPETITION=1&gameweekNumbers=1-20&live=true',\n",
       " 'https://footballapi.pulselive.com/football/standings?compSeasons=489&altIds=true&detail=2&FOOTBALL_COMPETITION=1&gameweekNumbers=1-21&live=true',\n",
       " 'https://footballapi.pulselive.com/football/standings?compSeasons=489&altIds=true&detail=2&FOOTBALL_COMPETITION=1&gameweekNumbers=1-22&live=true',\n",
       " 'https://footballapi.pulselive.com/football/standings?compSeasons=489&altIds=true&detail=2&FOOTBALL_COMPETITION=1&gameweekNumbers=1-23&live=true',\n",
       " 'https://footballapi.pulselive.com/football/standings?compSeasons=489&altIds=true&detail=2&FOOTBALL_COMPETITION=1&gameweekNumbers=1-24&live=true',\n",
       " 'https://footballapi.pulselive.com/football/standings?compSeasons=489&altIds=true&detail=2&FOOTBALL_COMPETITION=1&gameweekNumbers=1-25&live=true',\n",
       " 'https://footballapi.pulselive.com/football/standings?compSeasons=489&altIds=true&detail=2&FOOTBALL_COMPETITION=1&gameweekNumbers=1-26&live=true',\n",
       " 'https://footballapi.pulselive.com/football/standings?compSeasons=489&altIds=true&detail=2&FOOTBALL_COMPETITION=1&gameweekNumbers=1-27&live=true',\n",
       " 'https://footballapi.pulselive.com/football/standings?compSeasons=489&altIds=true&detail=2&FOOTBALL_COMPETITION=1&gameweekNumbers=1-28&live=true',\n",
       " 'https://footballapi.pulselive.com/football/standings?compSeasons=489&altIds=true&detail=2&FOOTBALL_COMPETITION=1&gameweekNumbers=1-29&live=true',\n",
       " 'https://footballapi.pulselive.com/football/standings?compSeasons=489&altIds=true&detail=2&FOOTBALL_COMPETITION=1&gameweekNumbers=1-30&live=true',\n",
       " 'https://footballapi.pulselive.com/football/standings?compSeasons=489&altIds=true&detail=2&FOOTBALL_COMPETITION=1&gameweekNumbers=1-31&live=true',\n",
       " 'https://footballapi.pulselive.com/football/standings?compSeasons=489&altIds=true&detail=2&FOOTBALL_COMPETITION=1&gameweekNumbers=1-32&live=true',\n",
       " 'https://footballapi.pulselive.com/football/standings?compSeasons=489&altIds=true&detail=2&FOOTBALL_COMPETITION=1&gameweekNumbers=1-33&live=true',\n",
       " 'https://footballapi.pulselive.com/football/standings?compSeasons=489&altIds=true&detail=2&FOOTBALL_COMPETITION=1&gameweekNumbers=1-34&live=true',\n",
       " 'https://footballapi.pulselive.com/football/standings?compSeasons=489&altIds=true&detail=2&FOOTBALL_COMPETITION=1&gameweekNumbers=1-35&live=true',\n",
       " 'https://footballapi.pulselive.com/football/standings?compSeasons=489&altIds=true&detail=2&FOOTBALL_COMPETITION=1&gameweekNumbers=1-36&live=true']"
      ]
     },
     "execution_count": 6,
     "metadata": {},
     "output_type": "execute_result"
    }
   ],
   "source": [
    "urls"
   ]
  },
  {
   "cell_type": "code",
   "execution_count": 7,
   "metadata": {},
   "outputs": [],
   "source": [
    "headers = {\n",
    "    'Origin': 'https://www.premierleague.com',\n",
    "    'Referer': 'https://www.premierleague.com',\n",
    "    'user-agent': 'Mozilla/5.0 (Windows NT 10.0; Win64; x64) AppleWebKit/537.36 (KHTML, like Gecko) Chrome/113.0.0.0 Safari/537.36'\n",
    "\n",
    "\n",
    "}\n"
   ]
  },
  {
   "cell_type": "code",
   "execution_count": 8,
   "metadata": {},
   "outputs": [],
   "source": [
    "gameweek=[]\n",
    "team=[]\n",
    "position=[]\n",
    "for index,url in enumerate(urls):\n",
    "    response = requests.get(url, headers=headers)\n",
    "    data = response.json()\n",
    "    for i in range(0,20):\n",
    "        team_name=team.append(data[\"tables\"][0][\"entries\"][i][\"team\"][\"name\"])\n",
    "        team_position=position.append(data[\"tables\"][0][\"entries\"][i][\"position\"])\n",
    "        fechas=gameweek.append(data[\"tables\"][0][\"entries\"][i][\"form\"][0][\"gameweek\"][\"gameweek\"])\n",
    "        team.append(team_name)\n",
    "        position.append(team_position)\n",
    "        gameweek.append(fechas)"
   ]
  },
  {
   "cell_type": "code",
   "execution_count": 9,
   "metadata": {},
   "outputs": [
    {
     "data": {
      "text/html": [
       "<div>\n",
       "<style scoped>\n",
       "    .dataframe tbody tr th:only-of-type {\n",
       "        vertical-align: middle;\n",
       "    }\n",
       "\n",
       "    .dataframe tbody tr th {\n",
       "        vertical-align: top;\n",
       "    }\n",
       "\n",
       "    .dataframe thead th {\n",
       "        text-align: right;\n",
       "    }\n",
       "</style>\n",
       "<table border=\"1\" class=\"dataframe\">\n",
       "  <thead>\n",
       "    <tr style=\"text-align: right;\">\n",
       "      <th></th>\n",
       "      <th>team</th>\n",
       "      <th>position</th>\n",
       "      <th>gameweek</th>\n",
       "    </tr>\n",
       "  </thead>\n",
       "  <tbody>\n",
       "    <tr>\n",
       "      <th>0</th>\n",
       "      <td>Arsenal</td>\n",
       "      <td>3.0</td>\n",
       "      <td>1.0</td>\n",
       "    </tr>\n",
       "    <tr>\n",
       "      <th>1</th>\n",
       "      <td>Manchester City</td>\n",
       "      <td>4.0</td>\n",
       "      <td>1.0</td>\n",
       "    </tr>\n",
       "    <tr>\n",
       "      <th>2</th>\n",
       "      <td>Manchester City</td>\n",
       "      <td>1.0</td>\n",
       "      <td>1.0</td>\n",
       "    </tr>\n",
       "    <tr>\n",
       "      <th>3</th>\n",
       "      <td>Arsenal</td>\n",
       "      <td>2.0</td>\n",
       "      <td>1.0</td>\n",
       "    </tr>\n",
       "    <tr>\n",
       "      <th>4</th>\n",
       "      <td>Arsenal</td>\n",
       "      <td>1.0</td>\n",
       "      <td>1.0</td>\n",
       "    </tr>\n",
       "    <tr>\n",
       "      <th>...</th>\n",
       "      <td>...</td>\n",
       "      <td>...</td>\n",
       "      <td>...</td>\n",
       "    </tr>\n",
       "    <tr>\n",
       "      <th>67</th>\n",
       "      <td>Arsenal</td>\n",
       "      <td>2.0</td>\n",
       "      <td>30.0</td>\n",
       "    </tr>\n",
       "    <tr>\n",
       "      <th>68</th>\n",
       "      <td>Manchester City</td>\n",
       "      <td>1.0</td>\n",
       "      <td>31.0</td>\n",
       "    </tr>\n",
       "    <tr>\n",
       "      <th>69</th>\n",
       "      <td>Arsenal</td>\n",
       "      <td>2.0</td>\n",
       "      <td>31.0</td>\n",
       "    </tr>\n",
       "    <tr>\n",
       "      <th>70</th>\n",
       "      <td>Manchester City</td>\n",
       "      <td>1.0</td>\n",
       "      <td>33.0</td>\n",
       "    </tr>\n",
       "    <tr>\n",
       "      <th>71</th>\n",
       "      <td>Arsenal</td>\n",
       "      <td>2.0</td>\n",
       "      <td>32.0</td>\n",
       "    </tr>\n",
       "  </tbody>\n",
       "</table>\n",
       "<p>72 rows × 3 columns</p>\n",
       "</div>"
      ],
      "text/plain": [
       "               team  position  gameweek\n",
       "0           Arsenal       3.0       1.0\n",
       "1   Manchester City       4.0       1.0\n",
       "2   Manchester City       1.0       1.0\n",
       "3           Arsenal       2.0       1.0\n",
       "4           Arsenal       1.0       1.0\n",
       "..              ...       ...       ...\n",
       "67          Arsenal       2.0      30.0\n",
       "68  Manchester City       1.0      31.0\n",
       "69          Arsenal       2.0      31.0\n",
       "70  Manchester City       1.0      33.0\n",
       "71          Arsenal       2.0      32.0\n",
       "\n",
       "[72 rows x 3 columns]"
      ]
     },
     "execution_count": 9,
     "metadata": {},
     "output_type": "execute_result"
    }
   ],
   "source": [
    "df=pd.DataFrame({\"team\":team,\"position\":position,\"gameweek\":gameweek})\n",
    "#Eliminar nan\n",
    "df=df.dropna()\n",
    "#Dejar solo Manchester City y Arsenal\n",
    "df=df[(df[\"team\"]==\"Manchester City\") | (df[\"team\"]==\"Arsenal\")]\n",
    "df=df.reset_index(drop=True)\n",
    "df"
   ]
  },
  {
   "cell_type": "code",
   "execution_count": 10,
   "metadata": {},
   "outputs": [
    {
     "data": {
      "text/plain": [
       "720"
      ]
     },
     "execution_count": 10,
     "metadata": {},
     "output_type": "execute_result"
    }
   ],
   "source": [
    "36*20"
   ]
  },
  {
   "cell_type": "code",
   "execution_count": 11,
   "metadata": {},
   "outputs": [
    {
     "data": {
      "text/plain": [
       "array([ 1.,  2.,  3.,  4.,  5.,  6.,  8.,  9., 10., 11., 13., 14., 15.,\n",
       "       16., 17., 18., 19., 20., 21., 23., 22., 24., 25., 26., 27., 28.,\n",
       "       29., 30., 31., 33., 32.])"
      ]
     },
     "execution_count": 11,
     "metadata": {},
     "output_type": "execute_result"
    }
   ],
   "source": [
    "df[\"gameweek\"].unique()"
   ]
  },
  {
   "cell_type": "code",
   "execution_count": 12,
   "metadata": {},
   "outputs": [
    {
     "data": {
      "image/png": "[encoded data removed]",
      "text/plain": [
       "<Figure size 1500x1000 with 1 Axes>"
      ]
     },
     "metadata": {},
     "output_type": "display_data"
    }
   ],
   "source": [
    "#Gráfica de líneas \n",
    "\n",
    "\n",
    "fig, ax = plt.subplots(figsize=(15, 10))\n",
    "ax.plot(df[df[\"team\"]==\"Manchester City\"][\"gameweek\"],df[df[\"team\"]==\"Manchester City\"][\"position\"],label=\"Manchester City\")\n",
    "ax.plot(df[df[\"team\"]==\"Arsenal\"][\"gameweek\"],df[df[\"team\"]==\"Arsenal\"][\"position\"],label=\"Arsenal\")\n",
    "ax.set_xlabel(\"Gameweek\")\n",
    "ax.set_ylabel(\"Position\")\n",
    "#Eje y invertido\n",
    "ax.invert_yaxis()\n",
    "ax.legend()\n",
    "#Eje y con enteros\n",
    "import matplotlib.ticker as mtick\n",
    "ax.yaxis.set_major_formatter(mtick.FormatStrFormatter('%d'))"
   ]
  },
  {
   "cell_type": "code",
   "execution_count": 13,
   "metadata": {},
   "outputs": [
    {
     "ename": "",
     "evalue": "",
     "output_type": "error",
     "traceback": [
      "\u001b[1;31mThe Kernel crashed while executing code in the the current cell or a previous cell. Please review the code in the cell(s) to identify a possible cause of the failure. Click <a href='https://aka.ms/vscodeJupyterKernelCrash'>here</a> for more info. View Jupyter <a href='command:jupyter.viewOutput'>log</a> for further details."
     ]
    }
   ],
   "source": [
    "# Set the backend explicitly\n",
    "plt.switch_backend('TkAgg')\n",
    "\n",
    "# Assuming your DataFrame is named 'df'\n",
    "# Sort the DataFrame by gameweek for proper animation\n",
    "df = df.sort_values('gameweek')\n",
    "\n",
    "# Create a figure and axis for the graph\n",
    "fig, ax = plt.subplots()\n",
    "\n",
    "# Define a function to update the graph at each frame of the animation\n",
    "def update(frame):\n",
    "    # Filter the DataFrame for the current gameweek\n",
    "    data = df[df['gameweek'] <= frame]\n",
    "\n",
    "    # Group the data by team and calculate the average position\n",
    "    avg_positions = data.groupby('team')['position'].mean().sort_values()\n",
    "\n",
    "    # Clear the current axis\n",
    "    ax.clear()\n",
    "\n",
    "    # Plot the positions of teams\n",
    "    ax.plot(avg_positions.values, 'o-')\n",
    "\n",
    "    # Set labels and title\n",
    "    ax.set_xlabel('Team')\n",
    "    ax.set_ylabel('Position')\n",
    "    ax.set_title(f'Gameweek {int(frame)}')\n",
    "\n",
    "    # Rotate x-axis labels for better visibility\n",
    "    plt.xticks(rotation=45)\n",
    "\n",
    "# Set the range of gameweeks for the animation\n",
    "gameweek_range = range(int(df['gameweek'].min()), int(df['gameweek'].max()) + 1)\n",
    "\n",
    "# Create the animation\n",
    "ani = animation.FuncAnimation(fig, update, frames=gameweek_range, interval=1000)\n",
    "\n",
    "# Display the animation\n",
    "plt.show()"
   ]
  }
 ],
 "metadata": {
  "kernelspec": {
   "display_name": "base",
   "language": "python",
   "name": "python3"
  },
  "language_info": {
   "codemirror_mode": {
    "name": "ipython",
    "version": 3
   },
   "file_extension": ".py",
   "mimetype": "text/x-python",
   "name": "python",
   "nbconvert_exporter": "python",
   "pygments_lexer": "ipython3",
   "version": "3.9.13"
  },
  "orig_nbformat": 4
 },
 "nbformat": 4,
 "nbformat_minor": 2
}
